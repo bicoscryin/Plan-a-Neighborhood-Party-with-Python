{
 "cells": [
  {
   "cell_type": "code",
   "execution_count": 2,
   "id": "31b26f1c",
   "metadata": {},
   "outputs": [],
   "source": [
    "#This will plan a party for the neighborhood"
   ]
  },
  {
   "cell_type": "code",
   "execution_count": 3,
   "id": "d734805f",
   "metadata": {},
   "outputs": [
    {
     "name": "stdout",
     "output_type": "stream",
     "text": [
      "Hello neighbors, let's plan a party!\n"
     ]
    }
   ],
   "source": [
    "print(\"Hello neighbors, let's plan a party!\")"
   ]
  },
  {
   "cell_type": "code",
   "execution_count": 7,
   "id": "9d6b9bbc",
   "metadata": {},
   "outputs": [
    {
     "name": "stdout",
     "output_type": "stream",
     "text": [
      "The total cost for everybody to attend is $471.52\n",
      "The total cost for the entire party is $1084.9499999999998\n",
      "Summary\n",
      "Location: That one Park Thing\n",
      "Number of attendees: 28\n",
      "Cost per person: $16.84\n",
      "The decorations and reservation will cost an additonal: $613.43\n"
     ]
    }
   ],
   "source": [
    "number_of_guests = 28\n",
    "cost_per_person = 16.84\n",
    "part_location = \"That one Park Thing\"\n",
    "additional_cost = 613.43\n",
    "total_cost = number_of_guests * cost_per_person\n",
    "print(f\"The total cost for everybody to attend is ${total_cost}\")\n",
    "total_cost += additional_cost\n",
    "print(f\"The total cost for the entire party is ${total_cost}\")\n",
    "print(f\"Summary\\nLocation: {part_location}\\nNumber of attendees: {number_of_guests}\\nCost per person: ${cost_per_person}\\nThe decorations and reservation will cost an additonal: ${additional_cost}\")"
   ]
  },
  {
   "cell_type": "code",
   "execution_count": null,
   "id": "4e947c99",
   "metadata": {},
   "outputs": [],
   "source": []
  }
 ],
 "metadata": {
  "kernelspec": {
   "display_name": "base",
   "language": "python",
   "name": "python3"
  },
  "language_info": {
   "codemirror_mode": {
    "name": "ipython",
    "version": 3
   },
   "file_extension": ".py",
   "mimetype": "text/x-python",
   "name": "python",
   "nbconvert_exporter": "python",
   "pygments_lexer": "ipython3",
   "version": "3.13.5"
  }
 },
 "nbformat": 4,
 "nbformat_minor": 5
}
