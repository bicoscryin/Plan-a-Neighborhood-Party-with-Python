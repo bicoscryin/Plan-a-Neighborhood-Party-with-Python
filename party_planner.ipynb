{
 "cells": [
  {
   "cell_type": "code",
   "execution_count": 2,
   "id": "31b26f1c",
   "metadata": {},
   "outputs": [],
   "source": [
    "#This will plan a party for the neighborhood"
   ]
  },
  {
   "cell_type": "code",
   "execution_count": 3,
   "id": "d734805f",
   "metadata": {},
   "outputs": [
    {
     "name": "stdout",
     "output_type": "stream",
     "text": [
      "Hello neighbors, let's plan a party!\n"
     ]
    }
   ],
   "source": [
    "print(\"Hello neighbors, let's plan a party!\")"
   ]
  },
  {
   "cell_type": "code",
   "execution_count": 27,
   "id": "9d6b9bbc",
   "metadata": {},
   "outputs": [
    {
     "name": "stdout",
     "output_type": "stream",
     "text": [
      "The total cost for everybody to attend is $471.52\n",
      "Summary\n",
      "Location: That one Park Thing\n",
      "Number of attendees: 28\n",
      "Cost per person: $16.84\n",
      "The decorations and reservation will cost an additonal: $613.43\n",
      "The total cost for the entire party is $1084.95\n",
      "The new total after the discount is $976.45\n"
     ]
    }
   ],
   "source": [
    "number_of_guests = 28\n",
    "cost_per_person = 16.84\n",
    "part_location = \"That one Park Thing\"\n",
    "additional_cost = 613.43\n",
    "total_cost = number_of_guests * cost_per_person\n",
    "print(f\"The total cost for everybody to attend is ${total_cost}\")\n",
    "#added additional costs to the account for the total dollar amount needed\n",
    "total_cost += additional_cost\n",
    "print(f\"Summary\\nLocation: {part_location}\\nNumber of attendees: {number_of_guests}\\nCost per person: ${cost_per_person}\\nThe decorations and reservation will cost an additonal: ${additional_cost}\\nThe total cost for the entire party is ${total_cost:.2f}\")\n",
    "#I applied a 10% discount to the total cost and rounded the total cost\n",
    "discount = .1\n",
    "total_cost *= 1-discount\n",
    "total_cost = round(total_cost, 2)\n",
    "print(f\"The new total after the discount is ${total_cost}\")"
   ]
  },
  {
   "cell_type": "code",
   "execution_count": null,
   "id": "4e947c99",
   "metadata": {},
   "outputs": [],
   "source": []
  }
 ],
 "metadata": {
  "kernelspec": {
   "display_name": "base",
   "language": "python",
   "name": "python3"
  },
  "language_info": {
   "codemirror_mode": {
    "name": "ipython",
    "version": 3
   },
   "file_extension": ".py",
   "mimetype": "text/x-python",
   "name": "python",
   "nbconvert_exporter": "python",
   "pygments_lexer": "ipython3",
   "version": "3.13.5"
  }
 },
 "nbformat": 4,
 "nbformat_minor": 5
}
